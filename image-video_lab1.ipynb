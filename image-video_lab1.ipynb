{
 "cells": [
  {
   "cell_type": "markdown",
   "metadata": {},
   "source": [
    "# Image & Video Technology and Analysis \n",
    "## Semester 8 - Spring 2021\n",
    "## Laboratory Project 1\n",
    "    Christos Dimopoulos (031 17 037)\n",
    "    Drosos Lalias (031 17 881)"
   ]
  },
  {
   "cell_type": "markdown",
   "metadata": {},
   "source": [
    "# 1. Θεωρητικό μέρος"
   ]
  },
  {
   "cell_type": "markdown",
   "metadata": {},
   "source": [
    "Το θεωρητικό υπόβαθρο της 1ης ερηαστηριακής άσκησης καλύπτεται από το άρθρο The Laplacian Pyramid as a Compact Image Code των Burt, P. J. and Adelson, E. H. Με βάση αυτό, απαντάμε στις παρακάτω θεωρητικές ερωτήσεις."
   ]
  },
  {
   "cell_type": "markdown",
   "metadata": {},
   "source": [
    "#### α) Ποιο είναι το πρόβλημα και ποιες είναι οι κύριες ιδέες που διαπραγματεύεται το άρθρο αυτό;"
   ]
  },
  {
   "cell_type": "markdown",
   "metadata": {},
   "source": [
    "Το βασικό πρόβλημα που πραγματεύεται το άρθρο των Burt & Anderson αφορά στην εύρεση μιας υπολογιστικά αποδοτικής τεχνικής κωδικοποίησης εικόνων, στηριζόμενη σε προβλεπτικές τεχνικές και μετασχηματισμούς. Ο αλγόριθμος που προτείνουν συνίσταται στην κατασκευή της Gaussian πυραμίδας, η οποία προκύπτει με επαναληπτικά βαθυπερατά φιλτραρίσματα και υποδειγματοληψία με r =2 (πυραμίδα οκτάβας). Λαμβάνοντας τις διαφορές από διαδοχικά επίπεδα της πυραμίδας αυτής, διαδικασία ισοδύναμη αλλά υπολογιστικά φτηνότερη με την εφαρμογή ενός τελεστή Laplace, προκύπτει τα αποσυσχετισμένα λάθη πρόβλεψης (Laplacian Pyramid), βάσει των οποίων γίνεται η κωδικοποίηση της εικόνας. Για τον σκοπό αυτό, οι συγγραφείς προτείνουν τη χρήση κανονικοποιημένων, συμμετρικών 5x5 Γκαουσσιανών πυρήνων ίσης συνεισφοράς σε pixels, οι οποίοι είναι ιδιαίτερα εύκολο υπολογιστικά να εφαρμοστούν, χρησιμοποιώντας μετατοπίσεις και προσθέσεις. Ομοίως, ορίζεται η ανάστροφη διαδικασία για την ακριβή ανακατασκευή της αρχικής εικόνας εισόδου. Επιπλέον, εισάγοντας το μέγεθος της εντροπίας ως το ελάχιστο πλήθος bits που απαιτούνται για την κωδικοποίηση εικόνας, προτείνεται ως μέθοδος ελάττωσης της η κβάντιση των τιμών pixel της πυραμίδας, χρησιμοποιώντας μικρότερο εύρος τιμών στις υψίσυχνες περιοχές. Τέλος, επισημαίνεται η υπολογιστική υπεροχή της προτεινόμενης μεθόδου και οι επεκτάσεις της σε εφαρμογές, όπως η επεξεργασία, μετάδοση και αναγνώρηση προτύπων σε εικόνες."
   ]
  },
  {
   "cell_type": "markdown",
   "metadata": {},
   "source": [
    "#### β) Ποιος είναι ο σκοπός του φίλτρου Gauss στην κατασκευή της πυραμίδας; Τι θα συνέβαινε αν χρησιμοποιήθηκε μόνο υποδειγματοληψία;"
   ]
  },
  {
   "cell_type": "markdown",
   "metadata": {},
   "source": [
    "H $N$-επιπέδων Gaussian πυραμίδα μιας εικόνας $I$ ορίζεται ως:\n",
    "\n",
    "\\begin{equation}\n",
    "  \\left\\{\\begin{array}{rcl}\n",
    "    L^0 & = & I \\\\\n",
    "    L^{n+1} & = & \\text{REDUCE}(L^n);~n\\in\\{0,1,\\cdots,N-1\\}\n",
    "  \\end{array}\\right.\n",
    "\\end{equation}\n",
    "\n",
    "\n",
    "όπου ο τελεστής $\\text{REDUCE}(s)$ είναι η συνέλιξη της εικόνας $I$ με τον συμμετρικό πυρήνα $w=\\{\\frac{1}{16}, \\frac{4}{16}, \\frac{6}{16}, \\frac{4}{16}, \\frac{1}{16}\\}$ (1D kernel που επεκτείνεται και σε 2D).\n",
    "Το Γκαουσσιανο αυτό φίλτρο ουσιαστικά κάνει blur τις λεπτομέρειες της εικόνας στην οποία εφαρμόζεται και συνιστά βαθυπερατό φιλτράρισμα. Η διαφορά της αρχικής εικόνας με το αποτέλεσμα της συνέλιξης της με το Gaussian filter δίνει το εκτιμώμενο σφάλμα, το οποίο θα χρησιμοποιηθεί για τη δημιουργία της Laplacian πυραμίδας και εν τέλει την κωδικοποίηση της εικόνας.\n",
    "<br> <br>\n",
    "Αν εφαρμόζαμε μόνο υποδειγματοληψία, δίχως την εφαρμογή του φίλτρου, τότε θα υπεισέρχονταν απώλειες πληροφορίας λόγω αναδιπλώσεων (<b>aliasing</b>). Προκειμένου το στάδιο της υποδειγματοληψίας να είναι χωρίς απώλειες (lossless), πρέπει τα μισά στοιχεία υψηλής συχνότητας των  Ln  να μην είναι είναι διαθέσιμα σε  Ln+1 . Ως συνέπεια του αποδεκατισμού, η συνολική ενέργεια των  Ln+1  θα είναι, κατά μέσο όρο, το 1/4 της ενέργειας των  Ln ."
   ]
  },
  {
   "cell_type": "markdown",
   "metadata": {},
   "source": [
    "#### γ) Πώς χρησιμοποιείται η πυραμίδα Laplacian για την επίλυση του προβλήματος που αναφέρεται στο άρθρο; Γιατί αυτή η αναπαράσταση εικόνας είναι καλύτερη από την πυραμίδα Gauss στο πλαίσιο της εργασίας που διαπραγματεύεται το άρθρο;"
   ]
  },
  {
   "cell_type": "markdown",
   "metadata": {},
   "source": [
    "H Laplacian πυραμίδα είναι μια ακολουθία από εικόνες σφάλματος L0, L1, ...LN, καθεμία εκ των οποίων είναι η διαφορά ανάμεσα σε δύο διαδοχικά επίπεδα της Gaussian πυραμίδας (Με εξαίρεση το Ν-οστό επίπεδο, όπου LN = gn (n-οστό επίπεδο Γκαουσσιανής Πυραμίδας). Η Λαπλασιανή Πυραμίδα επιλύει το πρόβλημα της κωδικοποίησης εικόνων με χαμηλό υπολογιστικό κόστος, διότι αντί να κωδικοποιούμε την αρχική εικόνα I, κωδικοποιούμε τα εκτιμούμενα σφάλματα Li. Η τεχνική αυτή υπερτερεί διότι:\n",
    " - Τα Li είναι σε μεγάλο βαθμό αποσυσχετισμένα, οπότε μπορούν να αναπαρασταθούν pixel προς pixel με λιγότερα bits, απ'ότι η αρχική εικόνα I. <br>\n",
    " - Η εικόνα Ln = gn μπορεί να κωδικοποιηθεί με μικρότερο ρυθμό δειγματοληψίας, δεδομένου ότι έχει προέλθει από απανωτά βαθυπερατά φιλτραρίσματα και υποδειγματοληψίες. <br>\n",
    " - H τεχνική της Gaussian πυραμίδας έχει χαμηλότερο υπολογιστικό κόστος από την εφαρμογή του τελεστή Laplacian of Gaussian στην αρχική εικόνα."
   ]
  },
  {
   "cell_type": "markdown",
   "metadata": {},
   "source": [
    "#### δ) Περιγράψτε πώς να ανακτήσετε την εικόνα χρησιμοποιώντας μόνο την πυραμίδα Laplacian. Διατυπώστε την απάντησή σας χρησιμοποιώντας μια εξίσωση που περιγράφει αυτήν τη διαδικασία. Θα μπορέσουμε να ανακτήσουμε τέλεια την αρχική εικόνα;"
   ]
  },
  {
   "cell_type": "markdown",
   "metadata": {},
   "source": [
    "Η αρχική εικόνα μπορεί αν ανακτηθεί επακριβώς, επεκετείνοντας και αθροίζοντας όλα τα επίπεδα της Γκαουσσιανής πυραμίδας:\n",
    "$$I_0=\\sum_{i=0}^N L_i$$\n",
    "Εναλλακτικά, μια πιο αποδοτική προσέγγιση είναι να επεκτείνουμε το εκτιμούμενο σφάλμα Ln μια φορά και να το προσθέσουμε στο Ln-1, ακολούθως να επεκτείνουμε την εικόνα που προκύπτει μια φορά και να την προσθέσουμε στο Ln-2 κ.ο.κ. Η διαδικασία αυτή αναιρεί τα βήματα της παραγωγής της Γκαουσσιανής πυραμίδας και η αρχική εικόνα ανασκευάζεται <b>επακριβώς</b>. \n"
   ]
  },
  {
   "cell_type": "markdown",
   "metadata": {},
   "source": [
    "# 2. Εργαστηριακό Μέρος"
   ]
  },
  {
   "cell_type": "markdown",
   "metadata": {},
   "source": [
    "### Α. Υλοποίηση Αλγορίθμου"
   ]
  },
  {
   "cell_type": "code",
   "execution_count": 2,
   "metadata": {},
   "outputs": [],
   "source": [
    "# Import necessary libraries\n",
    "import urllib.request\n",
    "import cv2\n",
    "import numpy as np\n",
    "from matplotlib import pyplot as plt\n",
    "%matplotlib inline"
   ]
  },
  {
   "cell_type": "code",
   "execution_count": 3,
   "metadata": {},
   "outputs": [],
   "source": [
    "\n",
    "def Gkernel(a):\n",
    "    b = 0.25\n",
    "    c = 0.25 - a/2\n",
    "    kernel1D = np.array([c, b, a, b, c])\n",
    "    h = kernel1D @ kernel1D.transpose()\n",
    "    return h"
   ]
  },
  {
   "cell_type": "code",
   "execution_count": 4,
   "metadata": {},
   "outputs": [],
   "source": [
    "def GREDUCE(I, h):\n",
    "    resized = cv2.filter2D(I, -1, h)\n",
    "    I_out = cv2.resize(resized, (resized.shape[1]//2, resized.shape[0]//2), interpolation=cv2.INTER_AREA)\n",
    "    return I_out"
   ]
  },
  {
   "cell_type": "code",
   "execution_count": 5,
   "metadata": {},
   "outputs": [],
   "source": [
    "def GPyramid(I, a, depth):\n",
    "    G = [I] # g^0 = I (initial image), base of the pyramid\n",
    "    temp = I\n",
    "    for i in range(depth-1):\n",
    "        temp = GREDUCE(I, Gkernel(a))\n",
    "        G.append(temp)\n",
    "    return G"
   ]
  },
  {
   "cell_type": "code",
   "execution_count": 6,
   "metadata": {},
   "outputs": [],
   "source": [
    "def GEXPAND(I, h):\n",
    "    resized = cv2.resize(I, (I.shape[1]*2, I.shape[0]*2), interpolation=cv2.INTER_LINEAR)\n",
    "    I_out = cv2.filter2D(resized, -1, h)\n",
    "    return I_out"
   ]
  },
  {
   "cell_type": "code",
   "execution_count": 10,
   "metadata": {},
   "outputs": [],
   "source": [
    "def LPyramid(I, a, depth):\n",
    "    h = GKernel(a)\n",
    "    G = GPyramid(I, a, depth)\n",
    "    L = [G[-1]]\n",
    "    for n in range(depth-1):\n",
    "        interpolation = GEXPAND(G[depth-n-1], h)\n",
    "        difference = G[depth-n-2] - interpolation + 128\n",
    "        L.append(difference)\n",
    "    L.reverse()\n",
    "    return L"
   ]
  },
  {
   "cell_type": "code",
   "execution_count": 11,
   "metadata": {},
   "outputs": [],
   "source": [
    "def L_Pyramid_Decode(L,a):\n",
    "    h = Gkernel(a)\n",
    "    I_out = L[len(L)-1]\n",
    "    for n in range(len(L)-1):\n",
    "        I_out = GEXPAND(R, h)\n",
    "        I_out = I_out + L[len(L)-n-2] - 128\n",
    "    return I_out"
   ]
  },
  {
   "cell_type": "code",
   "execution_count": null,
   "metadata": {},
   "outputs": [],
   "source": []
  }
 ],
 "metadata": {
  "kernelspec": {
   "display_name": "Python 3",
   "language": "python",
   "name": "python3"
  },
  "language_info": {
   "codemirror_mode": {
    "name": "ipython",
    "version": 3
   },
   "file_extension": ".py",
   "mimetype": "text/x-python",
   "name": "python",
   "nbconvert_exporter": "python",
   "pygments_lexer": "ipython3",
   "version": "3.8.3"
  }
 },
 "nbformat": 4,
 "nbformat_minor": 4
}
